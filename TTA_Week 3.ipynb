{
 "cells": [
  {
   "cell_type": "code",
   "execution_count": 22,
   "source": [
    "#enter 4 numbers and store them in a file called number\r\n",
    "my_file=open(\"number.txt\",\"w\")\r\n",
    "my_list=[3,21,45,83]\r\n",
    "for i in my_list:\r\n",
    "    my_file.write(str(i))\r\n",
    "    my_file.write(\"\\n\")\r\n",
    "my_file.close()\r\n",
    "\r\n",
    " "
   ],
   "outputs": [],
   "metadata": {}
  },
  {
   "cell_type": "code",
   "execution_count": 8,
   "source": [
    "#ask user for their percentage mark and convert it to a grade\r\n",
    "user_input = int(input(\"What is your percentage mark?\"))\r\n",
    "print(user_input)\r\n",
    "if user_input >=70 and user_input <=100:\r\n",
    "    print(\"Your Grade is A - excellent to oustanding\")\r\n",
    "elif user_input >=60 and user_input <=69:\r\n",
    "    print(\"Your Grade is B -god to very good \")\r\n",
    "elif user_input >=50 and user_input <=59:\r\n",
    "    print(\"Your Grade is C -Satisfying pass\")\r\n",
    "elif user_input >=40 and user_input <=49:\r\n",
    "    print(\"Your Grade is D - Sufficient \")\r\n",
    "elif user_input >=30 and user_input <=39:\r\n",
    "    print(\"Your Grade is E -Unsatisfactory \")\r\n",
    "elif user_input >=0 and user_input <=29:\r\n",
    "    print(\"Your Grade is F -Unsatisfactory \")\r\n",
    "else:\r\n",
    "   print(\"Entry is invalid!\")"
   ],
   "outputs": [
    {
     "output_type": "stream",
     "name": "stdout",
     "text": [
      "50\n",
      "Your Grade is C -Satisfying pass\n"
     ]
    }
   ],
   "metadata": {}
  },
  {
   "cell_type": "code",
   "execution_count": 16,
   "source": [
    "#The conversion will be done as a function called mark_grade\r\n",
    "def mark_grade(user_input):\r\n",
    "    if user_input >=70 and user_input <=100:\r\n",
    "        print(\"Your Grade is A - excellent to oustanding\")\r\n",
    "    elif user_input >=60 and user_input <=69:\r\n",
    "        print(\"Your Grade is B -god to very good \")\r\n",
    "    elif user_input >=50 and user_input <=59:\r\n",
    "        print(\"Your Grade is C -Satisfying pass\")\r\n",
    "    elif user_input >=40 and user_input <=49:\r\n",
    "        print(\"Your Grade is D - Sufficient \")\r\n",
    "    elif user_input >=30 and user_input <=39:\r\n",
    "        print(\"Your Grade is E -Unsatisfactory \")\r\n",
    "    elif user_input >=0 and user_input <=29:\r\n",
    "        print(\"Your Grade is F -Unsatisfactory \")\r\n",
    "    else:\r\n",
    "        print(\"Entry is invalid!\")\r\n",
    "\r\n",
    "#ask user for their percentage mark and convert it to a grade\r\n",
    "user_input = int(input(\"What is your percentage mark?\"))\r\n",
    "print(user_input)\r\n",
    "\r\n",
    "mark_grade(user_input)\r\n"
   ],
   "outputs": [
    {
     "output_type": "stream",
     "name": "stdout",
     "text": [
      "58\n",
      "Your Grade is C -Satisfying pass\n"
     ]
    }
   ],
   "metadata": {}
  },
  {
   "cell_type": "code",
   "execution_count": 23,
   "source": [
    "#Ask the user for their target grade and print this with their mark\r\n",
    "def compare_target(user_input, target_grade):\r\n",
    "    if user_input >=70 and user_input <=100:\r\n",
    "        print(\"Your Grade is A - excellent to oustanding \")\r\n",
    "    elif user_input >=60 and user_input <=69:\r\n",
    "        print(\"Your Grade is B -god to very good \")\r\n",
    "    elif user_input >=50 and user_input <=59:\r\n",
    "        print(\"Your Grade is C -Satisfying pass\")\r\n",
    "    elif user_input >=40 and user_input <=49:\r\n",
    "        print(\"Your Grade is D - Sufficient \")\r\n",
    "    elif user_input >=30 and user_input <=39:\r\n",
    "        print(\"Your Grade is E -Unsatisfactory \")\r\n",
    "    elif user_input >=0 and user_input <=29:\r\n",
    "        print(\"Your Grade is F -Unsatisfactory \")\r\n",
    "    else:\r\n",
    "        print(\"Entry is invalid!\")\r\n",
    "\r\n",
    "#ask user for their percentage mark and convert it to a grade\r\n",
    "user_input = int(input(\"What is your percentage mark?\"))\r\n",
    "print(user_input)\r\n",
    "\r\n",
    "#ask user for their target grade\r\n",
    "target_grade =int(input(\"What is your target grade?\"))\r\n",
    "print(target_grade)\r\n",
    "if user_input > target_grade:\r\n",
    "    print(\"You have exceeded your target\")\r\n",
    "elif user_input < target_grade:\r\n",
    "    print(\"You did not achieve your target\")\r\n",
    "elif user_input == target_grade:\r\n",
    "    print(\"You have achieved your target\")\r\n",
    "else:\r\n",
    "    print(\"Entry is invalid!\")\r\n",
    "   "
   ],
   "outputs": [
    {
     "output_type": "stream",
     "name": "stdout",
     "text": [
      "90\n",
      "70\n",
      "You have exceeded your target\n"
     ]
    }
   ],
   "metadata": {}
  },
  {
   "cell_type": "code",
   "execution_count": null,
   "source": [
    "\r\n",
    "    "
   ],
   "outputs": [],
   "metadata": {}
  }
 ],
 "metadata": {
  "interpreter": {
   "hash": "a8216ccdb0e303ffeb401f672ddfaf05f5c23d3b9645325153cd9782635b2cb0"
  },
  "kernelspec": {
   "display_name": "Python 3.9.5 64-bit",
   "name": "python3"
  },
  "language_info": {
   "codemirror_mode": {
    "name": "ipython",
    "version": 3
   },
   "file_extension": ".py",
   "mimetype": "text/x-python",
   "name": "python",
   "nbconvert_exporter": "python",
   "pygments_lexer": "ipython3",
   "version": "3.9.5"
  },
  "orig_nbformat": 4
 },
 "nbformat": 4,
 "nbformat_minor": 2
}