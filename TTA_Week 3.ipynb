{
 "cells": [
  {
   "cell_type": "code",
   "execution_count": 22,
   "source": [
    "#enter 4 numbers and store them in a file called number\r\n",
    "my_file=open(\"number.txt\",\"w\")\r\n",
    "my_list=[3,21,45,83]\r\n",
    "for i in my_list:\r\n",
    "    my_file.write(str(i))\r\n",
    "    my_file.write(\"\\n\")\r\n",
    "my_file.close()\r\n",
    "\r\n",
    " "
   ],
   "outputs": [],
   "metadata": {}
  },
  {
   "cell_type": "code",
   "execution_count": 8,
   "source": [
    "#ask user for their percentage mark and convert it to a grade\r\n",
    "user_input = int(input(\"What is your percentage mark?\"))\r\n",
    "print(user_input)\r\n",
    "if user_input >=70 and user_input <=100:\r\n",
    "    print(\"Your Grade is A - excellent to oustanding\")\r\n",
    "elif user_input >=60 and user_input <=69:\r\n",
    "    print(\"Your Grade is B -god to very good \")\r\n",
    "elif user_input >=50 and user_input <=59:\r\n",
    "    print(\"Your Grade is C -Satisfying pass\")\r\n",
    "elif user_input >=40 and user_input <=49:\r\n",
    "    print(\"Your Grade is D - Sufficient \")\r\n",
    "elif user_input >=30 and user_input <=39:\r\n",
    "    print(\"Your Grade is E -Unsatisfactory \")\r\n",
    "elif user_input >=0 and user_input <=29:\r\n",
    "    print(\"Your Grade is F -Unsatisfactory \")\r\n",
    "else:\r\n",
    "   print(\"Entry is invalid!\")"
   ],
   "outputs": [
    {
     "output_type": "stream",
     "name": "stdout",
     "text": [
      "50\n",
      "Your Grade is C -Satisfying pass\n"
     ]
    }
   ],
   "metadata": {}
  },
  {
   "cell_type": "code",
   "execution_count": 16,
   "source": [
    "#The conversion will be done as a function called mark_grade\r\n",
    "def mark_grade(user_input):\r\n",
    "    if user_input >=70 and user_input <=100:\r\n",
    "        print(\"Your Grade is A - excellent to oustanding\")\r\n",
    "    elif user_input >=60 and user_input <=69:\r\n",
    "        print(\"Your Grade is B -god to very good \")\r\n",
    "    elif user_input >=50 and user_input <=59:\r\n",
    "        print(\"Your Grade is C -Satisfying pass\")\r\n",
    "    elif user_input >=40 and user_input <=49:\r\n",
    "        print(\"Your Grade is D - Sufficient \")\r\n",
    "    elif user_input >=30 and user_input <=39:\r\n",
    "        print(\"Your Grade is E -Unsatisfactory \")\r\n",
    "    elif user_input >=0 and user_input <=29:\r\n",
    "        print(\"Your Grade is F -Unsatisfactory \")\r\n",
    "    else:\r\n",
    "        print(\"Entry is invalid!\")\r\n",
    "\r\n",
    "#ask user for their percentage mark and convert it to a grade\r\n",
    "user_input = int(input(\"What is your percentage mark?\"))\r\n",
    "print(user_input)\r\n",
    "\r\n",
    "mark_grade(user_input)\r\n"
   ],
   "outputs": [
    {
     "output_type": "stream",
     "name": "stdout",
     "text": [
      "58\n",
      "Your Grade is C -Satisfying pass\n"
     ]
    }
   ],
   "metadata": {}
  },
  {
   "cell_type": "code",
   "execution_count": 23,
   "source": [
    "#Ask the user for their target grade and print this with their mark\r\n",
    "def compare_target(user_input, target_grade):\r\n",
    "    if user_input >=70 and user_input <=100:\r\n",
    "        print(\"Your Grade is A - excellent to oustanding \")\r\n",
    "    elif user_input >=60 and user_input <=69:\r\n",
    "        print(\"Your Grade is B -god to very good \")\r\n",
    "    elif user_input >=50 and user_input <=59:\r\n",
    "        print(\"Your Grade is C -Satisfying pass\")\r\n",
    "    elif user_input >=40 and user_input <=49:\r\n",
    "        print(\"Your Grade is D - Sufficient \")\r\n",
    "    elif user_input >=30 and user_input <=39:\r\n",
    "        print(\"Your Grade is E -Unsatisfactory \")\r\n",
    "    elif user_input >=0 and user_input <=29:\r\n",
    "        print(\"Your Grade is F -Unsatisfactory \")\r\n",
    "    else:\r\n",
    "        print(\"Entry is invalid!\")\r\n",
    "\r\n",
    "#ask user for their percentage mark and convert it to a grade\r\n",
    "user_input = int(input(\"What is your percentage mark?\"))\r\n",
    "print(user_input)\r\n",
    "\r\n",
    "#ask user for their target grade\r\n",
    "target_grade =int(input(\"What is your target grade?\"))\r\n",
    "print(target_grade)\r\n",
    "if user_input > target_grade:\r\n",
    "    print(\"You have exceeded your target\")\r\n",
    "elif user_input < target_grade:\r\n",
    "    print(\"You did not achieve your target\")\r\n",
    "elif user_input == target_grade:\r\n",
    "    print(\"You have achieved your target\")\r\n",
    "else:\r\n",
    "    print(\"Entry is invalid!\")\r\n",
    "   "
   ],
   "outputs": [
    {
     "output_type": "stream",
     "name": "stdout",
     "text": [
      "90\n",
      "70\n",
      "You have exceeded your target\n"
     ]
    }
   ],
   "metadata": {}
  },
  {
   "cell_type": "code",
   "execution_count": 4,
   "source": [
    "\r\n",
    "!pip install numpy\r\n"
   ],
   "outputs": [
    {
     "output_type": "stream",
     "name": "stdout",
     "text": [
      "Collecting numpy\n",
      "  Downloading numpy-1.21.1-cp39-cp39-win_amd64.whl (14.0 MB)"
     ]
    },
    {
     "output_type": "stream",
     "name": "stderr",
     "text": [
      "WARNING: You are using pip version 21.1.1; however, version 21.1.3 is available.\n",
      "You should consider upgrading via the 'c:\\users\\adminuser\\appdata\\local\\programs\\python\\python39\\python.exe -m pip install --upgrade pip' command.\n"
     ]
    },
    {
     "output_type": "stream",
     "name": "stdout",
     "text": [
      "\n",
      "Installing collected packages: numpy\n",
      "Successfully installed numpy-1.21.1\n"
     ]
    }
   ],
   "metadata": {}
  },
  {
   "cell_type": "code",
   "execution_count": 10,
   "source": [
    "import numpy as np"
   ],
   "outputs": [],
   "metadata": {}
  },
  {
   "cell_type": "code",
   "execution_count": 11,
   "source": [
    "#Create a 1D list from 0 to 9\r\n",
    "my_1d_list=[1,2,3,4,5,6,7,8,9]\r\n",
    "print(my_1d_list)"
   ],
   "outputs": [
    {
     "output_type": "stream",
     "name": "stdout",
     "text": [
      "[1, 2, 3, 4, 5, 6, 7, 8, 9]\n"
     ]
    }
   ],
   "metadata": {}
  },
  {
   "cell_type": "code",
   "execution_count": 12,
   "source": [
    "#create an array -  slices data from index 1 to 9 0 indexed\r\n",
    "array=np.array([1,2,3,4,5,6,7,8,9])\r\n",
    "print(array[1:9])"
   ],
   "outputs": [
    {
     "output_type": "stream",
     "name": "stdout",
     "text": [
      "[2 3 4 5 6 7 8 9]\n"
     ]
    }
   ],
   "metadata": {}
  },
  {
   "cell_type": "code",
   "execution_count": 21,
   "source": [
    "#Create a 3×3 NumPy array of all Boolean value Trues\r\n",
    "import numpy as np\r\n",
    "boolean_options=[True, False]\r\n",
    "my_2d_list =[[True,True,True],\r\n",
    "            [True,True,True],\r\n",
    "            [True,True,True]]\r\n",
    "boolean_array=np.array (my_2d_list)\r\n",
    "            \r\n",
    "print(boolean_array)\r\n"
   ],
   "outputs": [
    {
     "output_type": "stream",
     "name": "stdout",
     "text": [
      "[[ True  True  True]\n",
      " [ True  True  True]\n",
      " [ True  True  True]]\n"
     ]
    }
   ],
   "metadata": {}
  },
  {
   "cell_type": "code",
   "execution_count": 28,
   "source": [
    "#Extract all odd numbers from array of 1-10\r\n",
    "import numpy as np\r\n",
    "array=np.array([1,2,3,4,5,6,7,8,9,10])\r\n",
    "print(\" Odd numbers\",array[array%2 ==1])"
   ],
   "outputs": [
    {
     "output_type": "stream",
     "name": "stdout",
     "text": [
      " Odd numbers [1 3 5 7 9]\n"
     ]
    }
   ],
   "metadata": {}
  },
  {
   "cell_type": "code",
   "execution_count": 8,
   "source": [
    "#Replace all odd numbers in an array of 1-10 with the value -1\r\n",
    "import numpy as np\r\n",
    "array=np.array([1,2,3,4,5,6,7,8,9,10])\r\n",
    "odd_numb =array[array%2 ==1]\r\n",
    "print(odd_numb)\r\n",
    "replace_odd_number=(odd_number)=-1\r\n",
    "print(replace_odd_number)\r\n",
    "\r\n",
    "\r\n"
   ],
   "outputs": [
    {
     "output_type": "stream",
     "name": "stdout",
     "text": [
      "[1 3 5 7 9]\n",
      "-1\n"
     ]
    }
   ],
   "metadata": {}
  },
  {
   "cell_type": "code",
   "execution_count": 15,
   "source": [
    "#Convert a 1D array to a 2D array with 2rows\r\n",
    "import numpy as np\r\n",
    "array=np.array([1,2,3,4,5,6,7,8,9,10])\r\n",
    "new_array=array.reshape(2,5)\r\n",
    "print(new_array)"
   ],
   "outputs": [
    {
     "output_type": "stream",
     "name": "stdout",
     "text": [
      "[[ 1  2  3  4  5]\n",
      " [ 6  7  8  9 10]]\n"
     ]
    }
   ],
   "metadata": {}
  },
  {
   "cell_type": "code",
   "execution_count": 22,
   "source": [
    "#Create two arrays a and b, stack these two arrays vertically use the  np.dot and np.sum to calculate totals\r\n",
    "import numpy as np\r\n",
    "#create two arrays\r\n",
    "a = np.array ([[2,3,8], [4,8,12], [4,5,6]])\r\n",
    "b = np.array([[2,3,7], [4,8,2], [6,4,2]])\r\n",
    "\r\n",
    "#stack vertically\r\n",
    "\r\n",
    "output = np.vstack((a, b))\r\n",
    "print(output)\r\n",
    "\r\n",
    "#use np.dot to calculate total\r\n",
    "c=np.dot(a,b)\r\n",
    "\r\n",
    "print(c)\r\n",
    "\r\n",
    "#np.sum to calculate total\r\n",
    "sum=np.sum(c)\r\n",
    "print (sum)\r\n",
    "\r\n"
   ],
   "outputs": [
    {
     "output_type": "stream",
     "name": "stdout",
     "text": [
      "[[ 2  3  8]\n",
      " [ 4  8 12]\n",
      " [ 4  5  6]\n",
      " [ 2  3  7]\n",
      " [ 4  8  2]\n",
      " [ 6  4  2]]\n",
      "[[ 64  62  36]\n",
      " [112 124  68]\n",
      " [ 64  76  50]]\n",
      "656\n"
     ]
    }
   ],
   "metadata": {}
  }
 ],
 "metadata": {
  "interpreter": {
   "hash": "a8216ccdb0e303ffeb401f672ddfaf05f5c23d3b9645325153cd9782635b2cb0"
  },
  "kernelspec": {
   "name": "python3",
   "display_name": "Python 3.9.5 64-bit"
  },
  "language_info": {
   "codemirror_mode": {
    "name": "ipython",
    "version": 3
   },
   "file_extension": ".py",
   "mimetype": "text/x-python",
   "name": "python",
   "nbconvert_exporter": "python",
   "pygments_lexer": "ipython3",
   "version": "3.9.5"
  },
  "orig_nbformat": 4
 },
 "nbformat": 4,
 "nbformat_minor": 2
}