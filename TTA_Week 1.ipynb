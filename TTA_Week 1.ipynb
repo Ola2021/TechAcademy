{
 "metadata": {
  "language_info": {
   "codemirror_mode": {
    "name": "ipython",
    "version": 3
   },
   "file_extension": ".py",
   "mimetype": "text/x-python",
   "name": "python",
   "nbconvert_exporter": "python",
   "pygments_lexer": "ipython3",
   "version": "3.9.6"
  },
  "orig_nbformat": 4,
  "kernelspec": {
   "name": "python3",
   "display_name": "Python 3.9.6 64-bit"
  },
  "interpreter": {
   "hash": "c333cf929b18594828d687a800a74b9df2b91eef90aacb809d7de64218d5e4fb"
  }
 },
 "nbformat": 4,
 "nbformat_minor": 2,
 "cells": [
  {
   "source": [
    "print(\"hello my name is Ola\")"
   ],
   "cell_type": "code",
   "metadata": {},
   "execution_count": null,
   "outputs": []
  },
  {
   "cell_type": "code",
   "execution_count": null,
   "metadata": {},
   "outputs": [],
   "source": [
    "import random\n",
    "n=random.randint(1,10)\n",
    "print(n)"
   ]
  },
  {
   "cell_type": "code",
   "execution_count": null,
   "metadata": {},
   "outputs": [],
   "source": [
    "#Gather the user's name and store as a variable\n",
    "user_input = input(\"What is your name? \")\n",
    "print(user_input)"
   ]
  },
  {
   "cell_type": "code",
   "execution_count": 62,
   "metadata": {},
   "outputs": [
    {
     "output_type": "stream",
     "name": "stdout",
     "text": [
      "Sorry, incorrect\n3\nYour answer 9\n"
     ]
    }
   ],
   "source": [
    "#Guess the number.\n",
    "import random\n",
    "n=random.randint(1,10)\n",
    "user_input =input(\"Guess a random number between 1 and 10\")\n",
    "user_input =int(user_input)\n",
    "if n==user_input:\n",
    "    print(\"win\")\n",
    "if n!=user_input:\n",
    "    print(\"Sorry, incorrect\")\n",
    "print(n)\n",
    "print( \"Your answer \" + str(user_input))\n"
   ]
  },
  {
   "cell_type": "code",
   "execution_count": null,
   "metadata": {},
   "outputs": [],
   "source": [
    "user_input=input(\"What is your favourite number?\")\n",
    "print(user_input)\n",
    "n = int(user_input)\n",
    "if n >=1 and n <=25:\n",
    "    print(\"Joke A\")\n",
    "elif n >=26 and n <=50:\n",
    "    print(\"JOKE B\")\n",
    "elif n >=51 and n <=75:\n",
    "    print(\"JOKE C\")\n",
    "elif n >=76 and n <=100:\n",
    "    print(\"JOKE D\")\n",
    "else:\n",
    "   print(\"Oops! number out of range\")"
   ]
  },
  {
   "cell_type": "code",
   "execution_count": null,
   "metadata": {},
   "outputs": [],
   "source": [
    "#User Input\n",
    "Starter = input(\"What is your favourite Starter?\")\n",
    "MainCourse = input(\"What is your favourite Main Course?\")\n",
    "Dessert = input(\"What is your favourite Dessert?\")\n",
    "Drink = input(\"What is your favourite Drink?\")\n",
    "#output\n",
    "print(\" Your favourite meal is \" + Starter  + \", \"  +  MainCourse +  \", \"   +  Dessert + \", \"  + \" with a glass of \" + Drink)"
   ]
  },
  {
   "cell_type": "code",
   "execution_count": 64,
   "metadata": {},
   "outputs": [
    {
     "output_type": "stream",
     "name": "stdout",
     "text": [
      "1800.0\n1620.0\n1458.0\n1312.2\n1180.98\n1062.882\n956.5938000000001\n956.5938000000001\n"
     ]
    }
   ],
   "source": [
    "discounted_value = 2000\n",
    "while discounted_value>1000:\n",
    "    discounted_value=discounted_value*0.9\n",
    "    print(discounted_value)\n",
    "print(discounted_value)"
   ]
  },
  {
   "cell_type": "code",
   "execution_count": null,
   "metadata": {},
   "outputs": [],
   "source": []
  }
 ]
}