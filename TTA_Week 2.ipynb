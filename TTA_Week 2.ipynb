{
 "cells": [
  {
   "cell_type": "code",
   "execution_count": 22,
   "source": [
    "def addition (number1, number2):\r\n",
    "    n = number1+ number2\r\n",
    "    return n\r\n",
    "\r\n",
    "answer = addition(7,9)\r\n",
    "print(answer)\r\n",
    "\r\n",
    "answer = addition(12,9)\r\n",
    "print(answer)\r\n",
    "\r\n",
    "answer = addition (99,118)\r\n",
    "print(answer)"
   ],
   "outputs": [
    {
     "output_type": "stream",
     "name": "stdout",
     "text": [
      "16\n",
      "21\n",
      "217\n"
     ]
    }
   ],
   "metadata": {}
  },
  {
   "cell_type": "code",
   "execution_count": 27,
   "source": [
    "def discounting (cost, discount):\r\n",
    "    n = cost * discount\r\n",
    "    return n\r\n",
    "\r\n",
    "answer = discounting (2000,0.9)\r\n",
    "print(answer)\r\n",
    "\r\n",
    "while answer>1000:\r\n",
    "    answer=answer*0.9\r\n",
    "    print(answer)\r\n"
   ],
   "outputs": [
    {
     "output_type": "stream",
     "name": "stdout",
     "text": [
      "1800.0\n",
      "1620.0\n",
      "1458.0\n",
      "1312.2\n",
      "1180.98\n",
      "1062.882\n",
      "956.5938000000001\n"
     ]
    }
   ],
   "metadata": {}
  },
  {
   "cell_type": "code",
   "execution_count": 32,
   "source": [
    "def run_math(n1,n2,operation):\r\n",
    "    if operation == \"A\":\r\n",
    "        print(A)\r\n",
    "        answerA= n1+n2\r\n",
    "        print(answerA)\r\n",
    "    elif operation == \"B\":\r\n",
    "        print(B)\r\n",
    "        answerB= n1-n2\r\n",
    "        print(answerB)\r\n",
    "    elif operation ==\"C\":\r\n",
    "        print(C)\r\n",
    "        answerC= n1/n2\r\n",
    "        print(answerC)\r\n",
    "    elif operation ==\"D\":\r\n",
    "        print(D)\r\n",
    "        answerD= n1*n2\r\n",
    "        print(answerD)\r\n",
    "    elif operation == \"E\":\r\n",
    "        print(E)\r\n",
    "        answerE= n1**n2\r\n",
    "        print(answerE)\r\n",
    "    else:\r\n",
    "        print(\"Oops! that is not an option\")\r\n",
    "#Select two number\r\n",
    "Selection1=input(\"what is your first selection?\")\r\n",
    "print(Selection1)\r\n",
    "num1=int(Selection1)\r\n",
    "Selection2=input(\"what is your second selection?\")\r\n",
    "print(Selection2)\r\n",
    "num2=int(Selection2)\r\n",
    "#pick the function you wish to run\r\n",
    "user_operation=input(\"select A to sum, B to subtract, C to divide, D to multiply and E to square\")\r\n",
    "A=\"+\"\r\n",
    "B=\"-\"\r\n",
    "C=\"/\"\r\n",
    "D=\"*\"\r\n",
    "E=\"**\"\r\n",
    "\r\n",
    "run_math(num1, num2, user_operation)"
   ],
   "outputs": [
    {
     "output_type": "stream",
     "name": "stdout",
     "text": [
      "5\n",
      "5\n",
      "/\n",
      "1.0\n"
     ]
    }
   ],
   "metadata": {}
  },
  {
   "cell_type": "code",
   "execution_count": 56,
   "source": [
    "#Task 1 -numbers greater or smaller than 10\r\n",
    "user_input =int(input(\"Select a number?\"))\r\n",
    "if user_input >10:\r\n",
    "    print(\"Number is greater than 10\")\r\n",
    "elif user_input <10:\r\n",
    "    print(\"Number is smaller than 10\")\r\n",
    "else:\r\n",
    "   print(\"number is 10\")\r\n",
    "\r\n",
    "#Task 2 - If number is less than 10 add 1 till 10 is achieved    \r\n",
    "while user_input<10:\r\n",
    "    user_input= user_input + 1\r\n",
    "    print(user_input)"
   ],
   "outputs": [
    {
     "output_type": "stream",
     "name": "stdout",
     "text": [
      "Number is smaller than 10\n",
      "4\n",
      "5\n",
      "6\n",
      "7\n",
      "8\n",
      "9\n",
      "10\n"
     ]
    }
   ],
   "metadata": {}
  },
  {
   "cell_type": "code",
   "execution_count": 87,
   "source": [
    "#enter scores from test, if less than 50, the outcome is fail, 50 and higher the outcome is pass\r\n",
    "#1.INPUT- collect test scores\r\n",
    "#2.convert the INPUT to integer\r\n",
    "#3.create if statement\r\n",
    "#4. if user_input is less than 50% pring(\" Your score is below 50% \")\r\n",
    "#5. if user input is >=50% print(\"Congratulations you have scored over 50%\")\r\n",
    "\r\n",
    "user_input=int(input(\"What is your score out of 100?\"))\r\n",
    "print(user_input)\r\n",
    "if user_input<50:\r\n",
    "    print(\"Your score is below 50\")\r\n",
    "    \r\n",
    "elif user_input >=50 and user_input <=100:\r\n",
    "    print(\"Congratulations you have scored over 50\")\r\n",
    "\r\n",
    "else:\r\n",
    "    print (\"Invalid scores entered\")"
   ],
   "outputs": [
    {
     "output_type": "stream",
     "name": "stdout",
     "text": [
      "120\n",
      "Invalid scores entered\n"
     ]
    }
   ],
   "metadata": {}
  }
 ],
 "metadata": {
  "interpreter": {
   "hash": "a8216ccdb0e303ffeb401f672ddfaf05f5c23d3b9645325153cd9782635b2cb0"
  },
  "kernelspec": {
   "display_name": "Python 3.9.5 64-bit",
   "name": "python3"
  },
  "language_info": {
   "codemirror_mode": {
    "name": "ipython",
    "version": 3
   },
   "file_extension": ".py",
   "mimetype": "text/x-python",
   "name": "python",
   "nbconvert_exporter": "python",
   "pygments_lexer": "ipython3",
   "version": "3.9.5"
  },
  "orig_nbformat": 4
 },
 "nbformat": 4,
 "nbformat_minor": 2
}