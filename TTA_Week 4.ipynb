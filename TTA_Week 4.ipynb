{
 "cells": [
  {
   "cell_type": "code",
   "execution_count": 10,
   "source": [
    "#import pandas\r\n",
    "import pandas as pd\r\n",
    "\r\n",
    "#create data frame\r\n",
    "services ={\"Service type\":[\"IAPT LI\",\"IAPT HI\",\"FTB LI\",\"FTB HI\",\"CBT HI\"],\r\n",
    "            \"Price\": [165.00, 200.00,165.00,200.00,300.0],\r\n",
    "            \"Origin\": [\"LWC\", \"SP\", \"HEX\", \"LWC\", \"LWC\"]}\r\n",
    "\r\n",
    "#Create variable \r\n",
    "my_frame =pd.DataFrame(services)\r\n",
    "\r\n",
    "#print variable\r\n",
    "print(my_frame)\r\n"
   ],
   "outputs": [
    {
     "output_type": "stream",
     "name": "stdout",
     "text": [
      "  Service type  Price Origin\n",
      "0      IAPT LI  165.0    LWC\n",
      "1      IAPT HI  200.0     SP\n",
      "2       FTB LI  165.0    HEX\n",
      "3       FTB HI  200.0    LWC\n",
      "4       CBT HI  300.0    LWC\n"
     ]
    }
   ],
   "metadata": {}
  },
  {
   "cell_type": "code",
   "execution_count": 14,
   "source": [
    "#import pandas\r\n",
    "import pandas as pd\r\n",
    "\r\n",
    "#create data frame\r\n",
    "services ={\"Service type\":[\"IAPT LI\",\"IAPT HI\",\"FTB LI\",\"FTB HI\",\"CBT HI\"],\r\n",
    "            \"Price\": [165.00, 200.00,165.00,200.00,300.0],\r\n",
    "            \"Origin\": [\"LWC\", \"SP\", \"HEX\", \"LWC\", \"LWC\"]}\r\n",
    "\r\n",
    "#Create variable \r\n",
    "my_frame=pd.DataFrame(services)\r\n",
    "\r\n",
    "#create index\r\n",
    "my_frame.index=[\"AV\", \"BN\", \"CG\",\"CF\",\"OR\"]\r\n",
    "print(my_frame)"
   ],
   "outputs": [
    {
     "output_type": "stream",
     "name": "stdout",
     "text": [
      "   Service type  Price Origin\n",
      "AV      IAPT LI  165.0    LWC\n",
      "BN      IAPT HI  200.0     SP\n",
      "CG       FTB LI  165.0    HEX\n",
      "CF       FTB HI  200.0    LWC\n",
      "OR       CBT HI  300.0    LWC\n"
     ]
    }
   ],
   "metadata": {}
  },
  {
   "cell_type": "code",
   "execution_count": 4,
   "source": [
    " pip install pandas"
   ],
   "outputs": [
    {
     "output_type": "stream",
     "name": "stdout",
     "text": [
      "Requirement already satisfied: pandas in c:\\users\\adminuser\\appdata\\local\\programs\\python\\python39\\lib\\site-packages (1.3.0)\n",
      "Requirement already satisfied: pytz>=2017.3 in c:\\users\\adminuser\\appdata\\local\\programs\\python\\python39\\lib\\site-packages (from pandas) (2021.1)\n",
      "Note: you may need to restart the kernel to use updated packages.Requirement already satisfied: numpy>=1.17.3 in c:\\users\\adminuser\\appdata\\local\\programs\\python\\python39\\lib\\site-packages (from pandas) (1.21.1)\n",
      "Requirement already satisfied: python-dateutil>=2.7.3 in c:\\users\\adminuser\\appdata\\roaming\\python\\python39\\site-packages (from pandas) (2.8.1)\n",
      "Requirement already satisfied: six>=1.5 in c:\\users\\adminuser\\appdata\\roaming\\python\\python39\\site-packages (from python-dateutil>=2.7.3->pandas) (1.16.0)\n",
      "\n"
     ]
    }
   ],
   "metadata": {}
  },
  {
   "cell_type": "code",
   "execution_count": null,
   "source": [
    "#import pandas\r\n",
    "import pandas as pd\r\n",
    "#read the csv file using pd.read.csv\r\n",
    "vetdata = pd.read_csv(\"vet_data.csv\")\r\n",
    "#retrieve pet name as a series\r\n",
    "print(vetdata[\"Pet_Name\"])\r\n",
    "#retrieve pet name as a dataframe\r\n",
    "print(vetdata[[\"Pet_Name\"]])\r\n",
    "#retrieving multiple columns as dataframe\r\n",
    "print(vetdata[[\"Type\",\"Pet_Age\", \"Chipped\"]])\r\n"
   ],
   "outputs": [],
   "metadata": {}
  },
  {
   "cell_type": "code",
   "execution_count": 36,
   "source": [
    "#Create a CSV file of 15 holiday destinations for a website \r\n",
    "#Add in a column of destinations\r\n",
    "#Add in a column that shows feedback score out of 10 for that destination\r\n",
    "#Add in a column for average hotel star rating for those destinations \r\n",
    "#Add in a column for number of all-inclusive hotels within each destination\r\n",
    "#Add in the most visited city in each destination\r\n",
    "\r\n",
    "#import pandas\r\n",
    "import pandas as pd\r\n",
    "#read the csv file using pd.read.csv\r\n",
    "holdes = pd.read_csv(\"hol_des.csv\")\r\n",
    "#retrieving multiple columns as dataframe\r\n",
    "print(holdes[[\"Country\",\"Feedback\", \"Ratings\", \"hotels\", \"pop city\"]])"
   ],
   "outputs": [
    {
     "output_type": "stream",
     "name": "stdout",
     "text": [
      "            Country  Feedback  Ratings  hotels            pop city\n",
      "0         Australia        10      5.0      49              sydney\n",
      "1            Brunei         8      4.0      39  Bandar Sari Begwan\n",
      "2           Nigeria         4      2.0      20               Lagos\n",
      "3   Falkland island         2      1.0      10     Volunteer point\n",
      "4           Belgium         2      1.0      10             Antwerp\n",
      "5           Iceland         1      0.5       5           Reykjavik\n",
      "6            Israel         6      3.0      29            Tel Aviv\n",
      "7        New Zeland         3      1.5      15            Auckland\n",
      "8          Portugal         3      1.5      15              Lisbon\n",
      "9         Singapore         7      3.5      34    Marina bay sands\n",
      "10             Peru         2      1.0      10                Lima\n",
      "11               UK         5      2.5      25              London\n",
      "12          Croatia         6      3.0      29           Dubrovnik\n",
      "13            Malta         5      2.5      25           Vallaetta\n",
      "14           Canada         3      1.5      15             Toronto\n"
     ]
    }
   ],
   "metadata": {}
  },
  {
   "cell_type": "code",
   "execution_count": 38,
   "source": [
    "#How many rows and columns are there in your file?\r\n",
    "import pandas as pd\r\n",
    "data =pd.read_csv(\"hol_des.csv\")\r\n",
    "data.shape"
   ],
   "outputs": [
    {
     "output_type": "execute_result",
     "data": {
      "text/plain": [
       "(15, 5)"
      ]
     },
     "metadata": {},
     "execution_count": 38
    }
   ],
   "metadata": {}
  },
  {
   "cell_type": "code",
   "execution_count": 41,
   "source": [
    "#Print row 3-8 ( using iloc/loc).\r\n",
    "\r\n",
    "import pandas as pd\r\n",
    "#read the csv file using pd.read.csv\r\n",
    "holdes = pd.read_csv(\"hol_des.csv\")\r\n",
    "rows=data.iloc[3:8]\r\n",
    "print(rows)"
   ],
   "outputs": [
    {
     "output_type": "stream",
     "name": "stdout",
     "text": [
      "           Country  Feedback  Ratings  hotels         pop city\n",
      "3  Falkland island         2      1.0      10  Volunteer point\n",
      "4          Belgium         2      1.0      10          Antwerp\n",
      "5          Iceland         1      0.5       5        Reykjavik\n",
      "6           Israel         6      3.0      29         Tel Aviv\n",
      "7       New Zeland         3      1.5      15         Auckland\n"
     ]
    }
   ],
   "metadata": {}
  },
  {
   "cell_type": "code",
   "execution_count": 42,
   "source": [
    "#Find the mean number of all-inclusive hotels across all destinations.\r\n",
    "import pandas as pd\r\n",
    "data =pd.read_csv(\"hol_des.csv\")\r\n",
    "data[\"hotels\"].mean()"
   ],
   "outputs": [
    {
     "output_type": "execute_result",
     "data": {
      "text/plain": [
       "22.0"
      ]
     },
     "metadata": {},
     "execution_count": 42
    }
   ],
   "metadata": {}
  },
  {
   "cell_type": "code",
   "execution_count": 57,
   "source": [
    "#Find the lowest scoring destination\r\n",
    "import pandas as pd\r\n",
    "data =pd.read_csv(\"hol_des.csv\")\r\n",
    "index = data[\"Feedback\"].idxmin()\r\n",
    "row=data.iloc[index]\r\n",
    "print(row[\"Country\"])"
   ],
   "outputs": [
    {
     "output_type": "stream",
     "name": "stdout",
     "text": [
      "Iceland\n"
     ]
    }
   ],
   "metadata": {}
  },
  {
   "cell_type": "code",
   "execution_count": 7,
   "source": [
    "#Find the highest scoring destination\r\n",
    "import pandas as pd\r\n",
    "data =pd.read_csv(\"hol_des.csv\")\r\n",
    "index = data[\"Feedback\"].idxmax()\r\n",
    "row=data.iloc[index]\r\n",
    "print(row[\"Country\"])"
   ],
   "outputs": [
    {
     "output_type": "stream",
     "name": "stdout",
     "text": [
      "Australia\n"
     ]
    }
   ],
   "metadata": {}
  },
  {
   "cell_type": "code",
   "execution_count": 14,
   "source": [
    "#Find all the destinations where there are more than 9 all-inclusive hotels.\r\n",
    "\r\n",
    "import pandas as pd\r\n",
    "data_file =pd.read_csv(\"hol_des.csv\")\r\n",
    "Hotel_index =filter_hotel9=data[\"hotels\"]>9\r\n",
    "filter_hotel9\r\n",
    "\r\n",
    "#more than 9 all-inclusive hotels\r\n",
    "Hotel= data[Hotel_index]\r\n",
    "Hotel.head()\r\n"
   ],
   "outputs": [
    {
     "output_type": "execute_result",
     "data": {
      "text/plain": [
       "           Country  Feedback  Ratings  hotels            pop city\n",
       "0        Australia        10      5.0      49              sydney\n",
       "1           Brunei         8      4.0      39  Bandar Sari Begwan\n",
       "2          Nigeria         4      2.0      20               Lagos\n",
       "3  Falkland island         2      1.0      10     Volunteer point\n",
       "4          Belgium         2      1.0      10             Antwerp"
      ],
      "text/html": [
       "<div>\n",
       "<style scoped>\n",
       "    .dataframe tbody tr th:only-of-type {\n",
       "        vertical-align: middle;\n",
       "    }\n",
       "\n",
       "    .dataframe tbody tr th {\n",
       "        vertical-align: top;\n",
       "    }\n",
       "\n",
       "    .dataframe thead th {\n",
       "        text-align: right;\n",
       "    }\n",
       "</style>\n",
       "<table border=\"1\" class=\"dataframe\">\n",
       "  <thead>\n",
       "    <tr style=\"text-align: right;\">\n",
       "      <th></th>\n",
       "      <th>Country</th>\n",
       "      <th>Feedback</th>\n",
       "      <th>Ratings</th>\n",
       "      <th>hotels</th>\n",
       "      <th>pop city</th>\n",
       "    </tr>\n",
       "  </thead>\n",
       "  <tbody>\n",
       "    <tr>\n",
       "      <th>0</th>\n",
       "      <td>Australia</td>\n",
       "      <td>10</td>\n",
       "      <td>5.0</td>\n",
       "      <td>49</td>\n",
       "      <td>sydney</td>\n",
       "    </tr>\n",
       "    <tr>\n",
       "      <th>1</th>\n",
       "      <td>Brunei</td>\n",
       "      <td>8</td>\n",
       "      <td>4.0</td>\n",
       "      <td>39</td>\n",
       "      <td>Bandar Sari Begwan</td>\n",
       "    </tr>\n",
       "    <tr>\n",
       "      <th>2</th>\n",
       "      <td>Nigeria</td>\n",
       "      <td>4</td>\n",
       "      <td>2.0</td>\n",
       "      <td>20</td>\n",
       "      <td>Lagos</td>\n",
       "    </tr>\n",
       "    <tr>\n",
       "      <th>3</th>\n",
       "      <td>Falkland island</td>\n",
       "      <td>2</td>\n",
       "      <td>1.0</td>\n",
       "      <td>10</td>\n",
       "      <td>Volunteer point</td>\n",
       "    </tr>\n",
       "    <tr>\n",
       "      <th>4</th>\n",
       "      <td>Belgium</td>\n",
       "      <td>2</td>\n",
       "      <td>1.0</td>\n",
       "      <td>10</td>\n",
       "      <td>Antwerp</td>\n",
       "    </tr>\n",
       "  </tbody>\n",
       "</table>\n",
       "</div>"
      ]
     },
     "metadata": {},
     "execution_count": 14
    }
   ],
   "metadata": {}
  },
  {
   "cell_type": "code",
   "execution_count": 15,
   "source": [
    "#Filter the data by score above 8.  \r\n",
    "\r\n",
    "import pandas as pd\r\n",
    "data_file =pd.read_csv(\"hol_des.csv\")\r\n",
    "Feedback_index =filter_Feedback8=data[\"Feedback\"]>8\r\n",
    "filter_Feedback8\r\n",
    "\r\n",
    "#Feedback score of more than 8\r\n",
    "Feedback= data[Feedback_index]\r\n",
    "Feedback.head()"
   ],
   "outputs": [
    {
     "output_type": "execute_result",
     "data": {
      "text/plain": [
       "     Country  Feedback  Ratings  hotels pop city\n",
       "0  Australia        10      5.0      49   sydney"
      ],
      "text/html": [
       "<div>\n",
       "<style scoped>\n",
       "    .dataframe tbody tr th:only-of-type {\n",
       "        vertical-align: middle;\n",
       "    }\n",
       "\n",
       "    .dataframe tbody tr th {\n",
       "        vertical-align: top;\n",
       "    }\n",
       "\n",
       "    .dataframe thead th {\n",
       "        text-align: right;\n",
       "    }\n",
       "</style>\n",
       "<table border=\"1\" class=\"dataframe\">\n",
       "  <thead>\n",
       "    <tr style=\"text-align: right;\">\n",
       "      <th></th>\n",
       "      <th>Country</th>\n",
       "      <th>Feedback</th>\n",
       "      <th>Ratings</th>\n",
       "      <th>hotels</th>\n",
       "      <th>pop city</th>\n",
       "    </tr>\n",
       "  </thead>\n",
       "  <tbody>\n",
       "    <tr>\n",
       "      <th>0</th>\n",
       "      <td>Australia</td>\n",
       "      <td>10</td>\n",
       "      <td>5.0</td>\n",
       "      <td>49</td>\n",
       "      <td>sydney</td>\n",
       "    </tr>\n",
       "  </tbody>\n",
       "</table>\n",
       "</div>"
      ]
     },
     "metadata": {},
     "execution_count": 15
    }
   ],
   "metadata": {}
  },
  {
   "cell_type": "code",
   "execution_count": 16,
   "source": [
    "#Filter the data score below 2 \r\n",
    "import pandas as pd\r\n",
    "data_file =pd.read_csv(\"hol_des.csv\")\r\n",
    "Feedback_index =filter_Feedback8=data[\"Feedback\"]<2\r\n",
    "filter_Feedback8\r\n",
    "\r\n",
    "#Feedback score less than 2\r\n",
    "Feedback= data[Feedback_index]\r\n",
    "Feedback.head()"
   ],
   "outputs": [
    {
     "output_type": "execute_result",
     "data": {
      "text/plain": [
       "   Country  Feedback  Ratings  hotels   pop city\n",
       "5  Iceland         1      0.5       5  Reykjavik"
      ],
      "text/html": [
       "<div>\n",
       "<style scoped>\n",
       "    .dataframe tbody tr th:only-of-type {\n",
       "        vertical-align: middle;\n",
       "    }\n",
       "\n",
       "    .dataframe tbody tr th {\n",
       "        vertical-align: top;\n",
       "    }\n",
       "\n",
       "    .dataframe thead th {\n",
       "        text-align: right;\n",
       "    }\n",
       "</style>\n",
       "<table border=\"1\" class=\"dataframe\">\n",
       "  <thead>\n",
       "    <tr style=\"text-align: right;\">\n",
       "      <th></th>\n",
       "      <th>Country</th>\n",
       "      <th>Feedback</th>\n",
       "      <th>Ratings</th>\n",
       "      <th>hotels</th>\n",
       "      <th>pop city</th>\n",
       "    </tr>\n",
       "  </thead>\n",
       "  <tbody>\n",
       "    <tr>\n",
       "      <th>5</th>\n",
       "      <td>Iceland</td>\n",
       "      <td>1</td>\n",
       "      <td>0.5</td>\n",
       "      <td>5</td>\n",
       "      <td>Reykjavik</td>\n",
       "    </tr>\n",
       "  </tbody>\n",
       "</table>\n",
       "</div>"
      ]
     },
     "metadata": {},
     "execution_count": 16
    }
   ],
   "metadata": {}
  },
  {
   "cell_type": "code",
   "execution_count": 19,
   "source": [
    "#Is there a correlation between number of all-inclusive hotels and score?\r\n",
    "#corrolation between Feedback column and hotels column\r\n",
    "import pandas as pd\r\n",
    "data_file =pd.read_csv(\"hol_des.csv\")\r\n",
    "print(data_file['hotels'].corr(data_file['Feedback']))\r\n",
    "print(data_file.corr())"
   ],
   "outputs": [
    {
     "output_type": "stream",
     "name": "stdout",
     "text": [
      "0.9997701196023799\n",
      "          Feedback  Ratings   hotels\n",
      "Feedback   1.00000  1.00000  0.99977\n",
      "Ratings    1.00000  1.00000  0.99977\n",
      "hotels     0.99977  0.99977  1.00000\n"
     ]
    }
   ],
   "metadata": {}
  },
  {
   "cell_type": "code",
   "execution_count": null,
   "source": [
    "pip install -U matplotlib"
   ],
   "outputs": [],
   "metadata": {}
  },
  {
   "cell_type": "code",
   "execution_count": 27,
   "source": [
    "#Create a data visualisation diagram to show destination and highest scores?\r\n",
    "\r\n",
    "import pandas as pd\r\n",
    "data_file =pd.read_csv(\"hol_des.csv\")\r\n",
    "data_file.plot()\r\n"
   ],
   "outputs": [
    {
     "output_type": "execute_result",
     "data": {
      "text/plain": [
       "<AxesSubplot:>"
      ]
     },
     "metadata": {},
     "execution_count": 27
    },
    {
     "output_type": "display_data",
     "data": {
      "text/plain": [
       "<Figure size 432x288 with 1 Axes>"
      ],
      "image/png": "[encoded data removed]"
     },
     "metadata": {
      "needs_background": "light"
     }
    }
   ],
   "metadata": {}
  },
  {
   "cell_type": "code",
   "execution_count": 39,
   "source": [
    "#Create a data visualisation diagram to show destination and highest scores?\r\n",
    "\r\n",
    "import pandas as pd\r\n",
    "data_file =pd.read_csv(\"hol_des.csv\")\r\n",
    "columns=data_file[['Country','Feedback']]\r\n",
    "data_file.groupby('Country').mean ().plot.bar()"
   ],
   "outputs": [
    {
     "output_type": "execute_result",
     "data": {
      "text/plain": [
       "<AxesSubplot:xlabel='Country'>"
      ]
     },
     "metadata": {},
     "execution_count": 39
    },
    {
     "output_type": "display_data",
     "data": {
      "text/plain": [
       "<Figure size 432x288 with 1 Axes>"
      ],
      "image/png": "[encoded data removed]"
     },
     "metadata": {
      "needs_background": "light"
     }
    }
   ],
   "metadata": {}
  }
 ],
 "metadata": {
  "interpreter": {
   "hash": "a8216ccdb0e303ffeb401f672ddfaf05f5c23d3b9645325153cd9782635b2cb0"
  },
  "kernelspec": {
   "name": "python3",
   "display_name": "Python 3.9.5 64-bit"
  },
  "language_info": {
   "codemirror_mode": {
    "name": "ipython",
    "version": 3
   },
   "file_extension": ".py",
   "mimetype": "text/x-python",
   "name": "python",
   "nbconvert_exporter": "python",
   "pygments_lexer": "ipython3",
   "version": "3.9.5"
  },
  "orig_nbformat": 4
 },
 "nbformat": 4,
 "nbformat_minor": 2
}