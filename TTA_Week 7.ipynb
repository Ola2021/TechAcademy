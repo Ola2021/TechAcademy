{
 "cells": [
  {
   "cell_type": "markdown",
   "source": [
    "#Linear Regression\r\n",
    "Linear regression is an algorithm based on supervised learning used to find linear relationship between two variables to predict future values\r\n",
    "It involves f finding a line that best fits the data points available on the plot, so that we can use it to predict output values for given inputs.\r\n",
    "It is used in medical sphere to analyse the possible outcome of a treatment path based on a set of  attributes.  It can also be used by businesses to predict demand .\r\n"
   ],
   "metadata": {}
  }
 ],
 "metadata": {
  "interpreter": {
   "hash": "a8216ccdb0e303ffeb401f672ddfaf05f5c23d3b9645325153cd9782635b2cb0"
  },
  "kernelspec": {
   "name": "python3",
   "display_name": "Python 3.9.5 64-bit"
  },
  "language_info": {
   "codemirror_mode": {
    "name": "ipython",
    "version": 3
   },
   "file_extension": ".py",
   "mimetype": "text/x-python",
   "name": "python",
   "nbconvert_exporter": "python",
   "pygments_lexer": "ipython3",
   "version": "3.9.5"
  },
  "orig_nbformat": 4
 },
 "nbformat": 4,
 "nbformat_minor": 2
}